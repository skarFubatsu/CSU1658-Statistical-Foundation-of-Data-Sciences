{
 "cells": [
  {
   "cell_type": "markdown",
   "id": "0457bcb7",
   "metadata": {},
   "source": [
    "# Practical 1 - Testing Pandas and Numpy\n",
    "---"
   ]
  },
  {
   "cell_type": "markdown",
   "id": "0f2b5b37",
   "metadata": {},
   "source": [
    "**Subject Name**: Statistical Foundation of Data Sciences\n",
    "\n",
    "**Subject Code**: CSU1658 Practical\n",
    "\n",
    "**Due Date**: 18th Sep 2025\n",
    "\n",
    "**Submitted By**:\n",
    "\n",
    "- *Ajay Sonkar*\n",
    "- *GF202343160*"
   ]
  },
  {
   "cell_type": "markdown",
   "id": "52764023",
   "metadata": {},
   "source": [
    "---\n",
    "## Instructions\n",
    "\n",
    "- **Please use either Google Colab or Jupyternotebook.**\n",
    "- **You are required to make the synthetic data set which has some Nan Values as well. Keep the random seed to 42 in the beginning and then as per requirement can be changed.**"
   ]
  },
  {
   "cell_type": "markdown",
   "id": "4d6b2690",
   "metadata": {},
   "source": [
    "---\n",
    "## Prerequisite\n",
    "\n",
    "**STEP**: Import required libraries"
   ]
  },
  {
   "cell_type": "code",
   "execution_count": 1,
   "id": "aca733f2",
   "metadata": {},
   "outputs": [],
   "source": [
    "import numpy as np\n",
    "import pandas as pd"
   ]
  },
  {
   "cell_type": "markdown",
   "id": "29717f4a",
   "metadata": {},
   "source": [
    "**STEP**: Freeze all imports to `requirements.txt`"
   ]
  },
  {
   "cell_type": "code",
   "execution_count": 2,
   "id": "c8e62708",
   "metadata": {},
   "outputs": [
    {
     "name": "stdout",
     "output_type": "stream",
     "text": [
      "Python Version: 3.12.10 | packaged by conda-forge | (main, Apr 10 2025, 22:21:13) [GCC 13.3.0]\n"
     ]
    }
   ],
   "source": [
    "import sys\n",
    "print(\"Python Version:\", sys.version)\n",
    "IMPORT_CELL = In[1].lower()\n",
    "\n",
    "\n",
    "def freeze_imports():\n",
    "    import importlib.metadata as lib_meta\n",
    "    lines = []\n",
    "    for module in sys.modules:\n",
    "        if module.startswith('_'):\n",
    "            continue\n",
    "        if module.lower() in IMPORT_CELL:\n",
    "            try:\n",
    "                dist = lib_meta.distribution(module)\n",
    "                lines.append(f\"{dist.name}=={dist.version}\\n\")\n",
    "            except Exception as e:\n",
    "                print(\"General Execption:\", e)\n",
    "    with open(\"./requirements.txt\", \"w\") as f:\n",
    "        f.writelines(lines)\n",
    "    with open(\"./runtime.txt\", \"w\") as f:\n",
    "        f.write(f\"python-{sys.version_info.major}.{sys.version_info.minor}.{sys.version_info.micro}\\n\")\n",
    "\n",
    "# Reviewers may not want to run this line\n",
    "# freeze_imports()"
   ]
  },
  {
   "cell_type": "markdown",
   "id": "34827309",
   "metadata": {},
   "source": [
    "**STEP**: Seed random functions"
   ]
  },
  {
   "cell_type": "code",
   "execution_count": 3,
   "id": "ee5351ab",
   "metadata": {},
   "outputs": [
    {
     "name": "stdout",
     "output_type": "stream",
     "text": [
      "Seeding numpy.random.seed with 42\n"
     ]
    }
   ],
   "source": [
    "SEED = 42\n",
    "_SEED_FUNCS = (\n",
    "    np.random.seed,\n",
    ")\n",
    "for func in _SEED_FUNCS:\n",
    "    print(f\"Seeding {func.__module__}.{func.__name__} with {SEED}\")\n",
    "    func(SEED)"
   ]
  },
  {
   "cell_type": "markdown",
   "id": "c23f3193",
   "metadata": {},
   "source": [
    "**STEP**: Generate Synthetic Data with NaN values"
   ]
  },
  {
   "cell_type": "code",
   "execution_count": 4,
   "id": "e55b2e9b",
   "metadata": {},
   "outputs": [],
   "source": [
    "def generate_synthetic_data(*, num_samples: int = 100, nan_ratio: float = 0.1, include_outliers: bool = False) -> pd.DataFrame:\n",
    "    \"\"\"Generate synthetic data with NaN values.\n",
    "    \n",
    "    Fields:\n",
    "        - age: Integer, age of the individual.\n",
    "        - income: Float, annual income.\n",
    "\n",
    "    Returns:\n",
    "        pd.DataFrame: A DataFrame with synthetic data.\n",
    "    \"\"\"\n",
    "    ages = np.random.randint(18, 60, size=num_samples)\n",
    "    # array of num_samples values, each representing a simulated income,\n",
    "    # centered around 50,000 with variability determined by 15,000.\n",
    "    incomes = np.random.normal(5E4, 15000, size=num_samples)\n",
    "    data = pd.DataFrame({\n",
    "        'age': ages,\n",
    "        'income': incomes\n",
    "    })\n",
    "    # Introduce NaN values\n",
    "    num_nans = int(nan_ratio * num_samples)\n",
    "    nan_indices = np.random.choice(num_samples, num_nans, replace=False)\n",
    "    data.loc[nan_indices, 'income'] = np.nan\n",
    "    # Optionally introduce outliers\n",
    "    if include_outliers:\n",
    "        outlier_indices = np.random.choice(num_samples, max(1, num_samples // 20), replace=False)\n",
    "        data.loc[outlier_indices, 'income'] *= 10  # Inflate income to create outliers\n",
    "    return data\n",
    "\n",
    "\n",
    "DATASET = generate_synthetic_data(num_samples=1000, nan_ratio=0.1, include_outliers=True)"
   ]
  },
  {
   "cell_type": "code",
   "execution_count": 5,
   "id": "fef7e18a",
   "metadata": {},
   "outputs": [
    {
     "data": {
      "text/html": [
       "<div>\n",
       "<style scoped>\n",
       "    .dataframe tbody tr th:only-of-type {\n",
       "        vertical-align: middle;\n",
       "    }\n",
       "\n",
       "    .dataframe tbody tr th {\n",
       "        vertical-align: top;\n",
       "    }\n",
       "\n",
       "    .dataframe thead th {\n",
       "        text-align: right;\n",
       "    }\n",
       "</style>\n",
       "<table border=\"1\" class=\"dataframe\">\n",
       "  <thead>\n",
       "    <tr style=\"text-align: right;\">\n",
       "      <th></th>\n",
       "      <th>age</th>\n",
       "      <th>income</th>\n",
       "    </tr>\n",
       "  </thead>\n",
       "  <tbody>\n",
       "    <tr>\n",
       "      <th>0</th>\n",
       "      <td>56</td>\n",
       "      <td>11406.031379</td>\n",
       "    </tr>\n",
       "    <tr>\n",
       "      <th>1</th>\n",
       "      <td>46</td>\n",
       "      <td>44216.926400</td>\n",
       "    </tr>\n",
       "    <tr>\n",
       "      <th>2</th>\n",
       "      <td>32</td>\n",
       "      <td>NaN</td>\n",
       "    </tr>\n",
       "    <tr>\n",
       "      <th>3</th>\n",
       "      <td>25</td>\n",
       "      <td>79989.758094</td>\n",
       "    </tr>\n",
       "    <tr>\n",
       "      <th>4</th>\n",
       "      <td>38</td>\n",
       "      <td>60771.478224</td>\n",
       "    </tr>\n",
       "  </tbody>\n",
       "</table>\n",
       "</div>"
      ],
      "text/plain": [
       "   age        income\n",
       "0   56  11406.031379\n",
       "1   46  44216.926400\n",
       "2   32           NaN\n",
       "3   25  79989.758094\n",
       "4   38  60771.478224"
      ]
     },
     "execution_count": 5,
     "metadata": {},
     "output_type": "execute_result"
    }
   ],
   "source": [
    "DATASET.head()"
   ]
  },
  {
   "cell_type": "code",
   "execution_count": 6,
   "id": "bd9ff61d",
   "metadata": {},
   "outputs": [
    {
     "data": {
      "text/html": [
       "<div>\n",
       "<style scoped>\n",
       "    .dataframe tbody tr th:only-of-type {\n",
       "        vertical-align: middle;\n",
       "    }\n",
       "\n",
       "    .dataframe tbody tr th {\n",
       "        vertical-align: top;\n",
       "    }\n",
       "\n",
       "    .dataframe thead th {\n",
       "        text-align: right;\n",
       "    }\n",
       "</style>\n",
       "<table border=\"1\" class=\"dataframe\">\n",
       "  <thead>\n",
       "    <tr style=\"text-align: right;\">\n",
       "      <th></th>\n",
       "      <th>age</th>\n",
       "      <th>income</th>\n",
       "    </tr>\n",
       "  </thead>\n",
       "  <tbody>\n",
       "    <tr>\n",
       "      <th>count</th>\n",
       "      <td>1000.000000</td>\n",
       "      <td>900.000000</td>\n",
       "    </tr>\n",
       "    <tr>\n",
       "      <th>mean</th>\n",
       "      <td>38.745000</td>\n",
       "      <td>73405.838107</td>\n",
       "    </tr>\n",
       "    <tr>\n",
       "      <th>std</th>\n",
       "      <td>12.186734</td>\n",
       "      <td>104858.690962</td>\n",
       "    </tr>\n",
       "    <tr>\n",
       "      <th>min</th>\n",
       "      <td>18.000000</td>\n",
       "      <td>-3523.079490</td>\n",
       "    </tr>\n",
       "    <tr>\n",
       "      <th>25%</th>\n",
       "      <td>28.000000</td>\n",
       "      <td>40861.044471</td>\n",
       "    </tr>\n",
       "    <tr>\n",
       "      <th>50%</th>\n",
       "      <td>40.000000</td>\n",
       "      <td>51652.576142</td>\n",
       "    </tr>\n",
       "    <tr>\n",
       "      <th>75%</th>\n",
       "      <td>50.000000</td>\n",
       "      <td>62491.047403</td>\n",
       "    </tr>\n",
       "    <tr>\n",
       "      <th>max</th>\n",
       "      <td>59.000000</td>\n",
       "      <td>855283.869197</td>\n",
       "    </tr>\n",
       "  </tbody>\n",
       "</table>\n",
       "</div>"
      ],
      "text/plain": [
       "               age         income\n",
       "count  1000.000000     900.000000\n",
       "mean     38.745000   73405.838107\n",
       "std      12.186734  104858.690962\n",
       "min      18.000000   -3523.079490\n",
       "25%      28.000000   40861.044471\n",
       "50%      40.000000   51652.576142\n",
       "75%      50.000000   62491.047403\n",
       "max      59.000000  855283.869197"
      ]
     },
     "execution_count": 6,
     "metadata": {},
     "output_type": "execute_result"
    }
   ],
   "source": [
    "DATASET.describe()"
   ]
  },
  {
   "cell_type": "code",
   "execution_count": 7,
   "id": "aa029edc",
   "metadata": {},
   "outputs": [
    {
     "name": "stdout",
     "output_type": "stream",
     "text": [
      "NaN values in each column:\n",
      "age         0\n",
      "income    100\n",
      "dtype: int64\n"
     ]
    }
   ],
   "source": [
    "print(\"NaN values in each column:\")\n",
    "print(DATASET.isna().sum())"
   ]
  },
  {
   "cell_type": "markdown",
   "id": "44724d32",
   "metadata": {},
   "source": [
    "---\n",
    "## Problem 1\n",
    "\n",
    "> Compute (a) mean, (b) median, and (c) age-weighted mean of income. Ignore NaNs where appropriate. Explain when a weighted mean is preferable.\n"
   ]
  },
  {
   "cell_type": "markdown",
   "id": "1e6726dc",
   "metadata": {},
   "source": [
    "**Methodology**: Remove rows with NaN in required columns only, preserving valid data. Compute arithmetic mean and median of income on the cleaned subset (they ignore NaNs). For the age‑weighted mean, treat age as reliability/importance weights and apply the formulae. Compare mean vs median to note skew/outlier influence; weighted mean highlights contributions of older (heavier weight) individuals. All computations are transparent and reproducible with simple pandas Series methods."
   ]
  },
  {
   "cell_type": "markdown",
   "id": "bc277fa6",
   "metadata": {},
   "source": [
    "**STEP 1**: Identify NaN values."
   ]
  },
  {
   "cell_type": "code",
   "execution_count": 8,
   "id": "7341c3cb",
   "metadata": {},
   "outputs": [
    {
     "data": {
      "text/plain": [
       "age         0\n",
       "income    100\n",
       "dtype: int64"
      ]
     },
     "execution_count": 8,
     "metadata": {},
     "output_type": "execute_result"
    }
   ],
   "source": [
    "DATASET.isna().sum()"
   ]
  },
  {
   "cell_type": "markdown",
   "id": "f95317d9",
   "metadata": {},
   "source": [
    "**STEP 2**: Filter out `NaN` values from columns required for calculations."
   ]
  },
  {
   "cell_type": "code",
   "execution_count": 9,
   "id": "e8fdde1b",
   "metadata": {},
   "outputs": [
    {
     "data": {
      "text/plain": [
       "age       0\n",
       "income    0\n",
       "dtype: int64"
      ]
     },
     "execution_count": 9,
     "metadata": {},
     "output_type": "execute_result"
    }
   ],
   "source": [
    "DATASET_NAN_CLEAN = DATASET.dropna(subset=['age', 'income'])\n",
    "DATASET_NAN_CLEAN.isna().sum()"
   ]
  },
  {
   "cell_type": "code",
   "execution_count": 10,
   "id": "8b767622",
   "metadata": {},
   "outputs": [
    {
     "data": {
      "text/html": [
       "<div>\n",
       "<style scoped>\n",
       "    .dataframe tbody tr th:only-of-type {\n",
       "        vertical-align: middle;\n",
       "    }\n",
       "\n",
       "    .dataframe tbody tr th {\n",
       "        vertical-align: top;\n",
       "    }\n",
       "\n",
       "    .dataframe thead th {\n",
       "        text-align: right;\n",
       "    }\n",
       "</style>\n",
       "<table border=\"1\" class=\"dataframe\">\n",
       "  <thead>\n",
       "    <tr style=\"text-align: right;\">\n",
       "      <th></th>\n",
       "      <th>age</th>\n",
       "      <th>income</th>\n",
       "    </tr>\n",
       "  </thead>\n",
       "  <tbody>\n",
       "    <tr>\n",
       "      <th>0</th>\n",
       "      <td>56</td>\n",
       "      <td>11406.031379</td>\n",
       "    </tr>\n",
       "    <tr>\n",
       "      <th>1</th>\n",
       "      <td>46</td>\n",
       "      <td>44216.926400</td>\n",
       "    </tr>\n",
       "    <tr>\n",
       "      <th>3</th>\n",
       "      <td>25</td>\n",
       "      <td>79989.758094</td>\n",
       "    </tr>\n",
       "    <tr>\n",
       "      <th>4</th>\n",
       "      <td>38</td>\n",
       "      <td>60771.478224</td>\n",
       "    </tr>\n",
       "    <tr>\n",
       "      <th>6</th>\n",
       "      <td>36</td>\n",
       "      <td>32333.216878</td>\n",
       "    </tr>\n",
       "  </tbody>\n",
       "</table>\n",
       "</div>"
      ],
      "text/plain": [
       "   age        income\n",
       "0   56  11406.031379\n",
       "1   46  44216.926400\n",
       "3   25  79989.758094\n",
       "4   38  60771.478224\n",
       "6   36  32333.216878"
      ]
     },
     "execution_count": 10,
     "metadata": {},
     "output_type": "execute_result"
    }
   ],
   "source": [
    "DATASET_NAN_CLEAN.head()"
   ]
  },
  {
   "cell_type": "code",
   "execution_count": 11,
   "id": "b76e6c92",
   "metadata": {},
   "outputs": [
    {
     "name": "stdout",
     "output_type": "stream",
     "text": [
      "Dropped NaN values. New dataset shape: (900, 2)\n",
      "Dropped Rows: 100\n"
     ]
    }
   ],
   "source": [
    "print(\"Dropped NaN values. New dataset shape:\", DATASET_NAN_CLEAN.shape)\n",
    "print(\"Dropped Rows:\", DATASET.shape[0] - DATASET_NAN_CLEAN.shape[0])"
   ]
  },
  {
   "cell_type": "markdown",
   "id": "1708e1df",
   "metadata": {},
   "source": [
    "---\n",
    "### A) Calculate Mean of income\n",
    "\n",
    "**STEP 3**: Use `.mean()` method to calculate mean of income."
   ]
  },
  {
   "cell_type": "code",
   "execution_count": 12,
   "id": "855c201b",
   "metadata": {},
   "outputs": [
    {
     "name": "stdout",
     "output_type": "stream",
     "text": [
      "Mean Income: 73,405.84\n"
     ]
    }
   ],
   "source": [
    "print(f\"Mean Income: {DATASET_NAN_CLEAN['income'].mean():,.2f}\")"
   ]
  },
  {
   "cell_type": "markdown",
   "id": "31bbc78d",
   "metadata": {},
   "source": [
    "---\n",
    "### B) Calculate Median of income"
   ]
  },
  {
   "cell_type": "markdown",
   "id": "395de523",
   "metadata": {},
   "source": [
    "**STEP 4**: Use `.median()` method to calculate median of income."
   ]
  },
  {
   "cell_type": "code",
   "execution_count": 13,
   "id": "9e5cc2e7",
   "metadata": {},
   "outputs": [
    {
     "name": "stdout",
     "output_type": "stream",
     "text": [
      "Median Income: 51,652.58\n"
     ]
    }
   ],
   "source": [
    "print(\"Median Income:\", f\"{DATASET_NAN_CLEAN['income'].median():,.2f}\")"
   ]
  },
  {
   "cell_type": "markdown",
   "id": "9c0a7a6b",
   "metadata": {
    "vscode": {
     "languageId": "latex"
    }
   },
   "source": [
    "---\n",
    "### C) Calculate Age Weighted Mean of income\n",
    "\n",
    "**STEP 5**: By using the following formula:\n",
    "\n",
    "$$\n",
    "\\text{Weighted Mean} = \\frac{\\sum_{i=1}^{n} w_i \\cdot x_i}{\\sum_{i=1}^{n} w_i}\n",
    "$$\n",
    "\n",
    "where in our case, `x` is income and `w` is age.\n",
    "\n",
    "*Ref: < https://mathemerize.com/weighted-mean-formula-and-examples/ >*"
   ]
  },
  {
   "cell_type": "code",
   "execution_count": 14,
   "id": "9ea3ec20",
   "metadata": {},
   "outputs": [
    {
     "name": "stdout",
     "output_type": "stream",
     "text": [
      "Age Weighted Mean Income: 74,104.71\n"
     ]
    }
   ],
   "source": [
    "def weighted_mean(x: pd.Series, w: pd.Series) -> float:\n",
    "    \"\"\"Calculate the weighted mean of a dataset.\n",
    "    \n",
    "    Args:\n",
    "        x (pd.Series): Data values.\n",
    "        w (pd.Series): Weights.\n",
    "    \n",
    "    Returns:\n",
    "        float: Weighted mean.\n",
    "    \"\"\"\n",
    "    return (x * w).sum() / w.sum()\n",
    "\n",
    "print(\"Age Weighted Mean Income:\", f\"{weighted_mean(DATASET_NAN_CLEAN['income'], DATASET_NAN_CLEAN['age']):,.2f}\")"
   ]
  },
  {
   "cell_type": "markdown",
   "id": "e437fd36",
   "metadata": {},
   "source": [
    "---\n",
    "### Explain when a weighted mean is preferable.\n",
    "\n",
    "A weighted mean is used when different observations in a dataset have varying levels of importance, reliability, or influence. It provides a more accurate reflection of the central tendency when certain data points or groups need to be emphasized based on their significance. Below are key contexts where a weighted mean is preferable:\n",
    "\n",
    "- **Varying Importance or Reliability of Observations**:\n",
    "\n",
    "    >  *When different observations are not equally reliable, the weighted mean allows for adjustments. For instance, when analyzing income data, older individuals might have more stable income patterns, and their data could be given greater weight. This is because older individuals may have had longer careers or more consistent income streams, making their data more representative of long-term trends. In such cases, the weighted mean helps ensure that more reliable data points are reflected more prominently in the calculation of the average.*\n",
    "\n",
    "- **Varying Sample Sizes Across Groups**:\n",
    "\n",
    "    > *If data is collected from different groups of unequal sizes, the weighted mean helps balance their influence on the overall average. For instance, if income data is gathered from various age groups, and there are significantly more younger individuals than older ones, the larger group could disproportionately affect the mean. By applying weights based on group size or importance, the weighted mean ensures that each group is properly represented in the overall calculation. This is especially useful when data is not evenly distributed across groups, and the arithmetic mean would otherwise bias the result.*\n",
    "\n",
    "- **Handling Heteroscedasticity (Unequal Variance Across Groups)**:\n",
    "\n",
    "    > *In cases where there is heteroscedasticity—meaning the variance in the data differs across groups—applying weights can correct these discrepancies. For instance, income variability might be greater among younger individuals due to career instability or a wider income range, while older individuals might exhibit more stable income patterns. By assigning more weight to data points with lower variance (e.g., older individuals with stable incomes, it is clear that the national education goals are reflected in the data. For example, income variability might be greater among younger individuals due to career instability or a wider income range, while older individuals might exhibit more stable income patterns. By assigning more weight to data points with lower variance (e.g., older individuals with stable incomes), the weighted mean helps produce a more accurate reflection of the average income across groups, accounting for the differing reliability or consistency of the data.*\n",
    "\n",
    "- **Population Representation Adjustments**:\n",
    "\n",
    "    > *Weighted means are particularly useful when the sample does not accurately reflect the entire population. In survey sampling, differences in demographics between the sample and the population can affect the accuracy of the results. If a survey has more data from urban areas while the overall population is mostly rural, applying weights helps adjust for this imbalance, ensuring the weighted mean accurately represents the true distribution of the population. This adjustment helps prevent biases that may occur due to over or under-representation of certain groups in the seven contribution documents, it is clear that the weighted mean is especially useful when the sample does not perfectly represent the overall population. In survey sampling, differences in demographics between the sample and the population can skew the results. For example, if a survey disproportionately includes data from urban areas while the overall population is mostly rural, applying weights to adjust for this difference ensures that the weighted mean reflects the true population distribution. This adjustment helps avoid biases that might result from over- or under-representing certain segments of the population.*\n",
    "\n",
    "Using an age-weighted mean gives more influence to older individuals, who typically have more stable incomes and may provide more reliable data. This results in a different perspective on the \"average\" income compared to a simple arithmetic mean, which would treat all individuals equally. The weighted mean in this case more accurately captures the distribution of income, reflecting the higher incomes often associated with older individuals."
   ]
  },
  {
   "cell_type": "markdown",
   "id": "91948e49",
   "metadata": {},
   "source": [
    "---\n",
    "## Problem 2\n",
    "\n",
    "> Standardize income (z-score). Report how many incomes are outliers using rule |z| > 3. Handle NaNs correctly (do not drop entire rows unnecessarily)."
   ]
  },
  {
   "cell_type": "markdown",
   "id": "90eb32e9",
   "metadata": {},
   "source": [
    "**Methodology**: Compute income mean and standard deviation with skipna to ignore missing values. Derive each z-score as (income − mean)/std, propagating NaN where income is NaN (no row drop). Flag outliers where absolute z-score exceeds 3 (|z| > 3). Summarize count of such extreme values to assess tail heaviness introduced by synthetic outliers. Retain original data structure while appending a z-score column for downstream analysis."
   ]
  },
  {
   "cell_type": "markdown",
   "id": "8e415f88",
   "metadata": {},
   "source": [
    "---\n",
    "**STEP 1**: Calculate Mean and Standard Deviation of Income"
   ]
  },
  {
   "cell_type": "code",
   "execution_count": 15,
   "id": "74b2d191",
   "metadata": {},
   "outputs": [
    {
     "name": "stdout",
     "output_type": "stream",
     "text": [
      "Income Mean: 73,405.84\n",
      "Income Std Dev: 104,858.69\n"
     ]
    }
   ],
   "source": [
    "income_mean = DATASET[\"income\"].mean(skipna=True)\n",
    "income_std = DATASET[\"income\"].std(skipna=True)\n",
    "print(f\"Income Mean: {income_mean:,.2f}\")\n",
    "print(f\"Income Std Dev: {income_std:,.2f}\")"
   ]
  },
  {
   "cell_type": "markdown",
   "id": "bab62e7b",
   "metadata": {},
   "source": [
    "---\n",
    "**STEP 2**: Calculate Z-Scores for Each Income\n",
    "\n",
    "The z-score for a data point $x_i$ is calculated as:\n",
    "\n",
    "$$\n",
    "z_i = \\frac{x_i - \\mu}{\\sigma}\n",
    "$$\n",
    "\n",
    "Where:\n",
    "- $x_i$ is the individual data point (in this case, income).\n",
    "- $\\mu$ is the mean of the data.\n",
    "- $\\sigma$ is the standard deviation of the data."
   ]
  },
  {
   "cell_type": "code",
   "execution_count": 16,
   "id": "45de6b36",
   "metadata": {},
   "outputs": [
    {
     "data": {
      "text/html": [
       "<div>\n",
       "<style scoped>\n",
       "    .dataframe tbody tr th:only-of-type {\n",
       "        vertical-align: middle;\n",
       "    }\n",
       "\n",
       "    .dataframe tbody tr th {\n",
       "        vertical-align: top;\n",
       "    }\n",
       "\n",
       "    .dataframe thead th {\n",
       "        text-align: right;\n",
       "    }\n",
       "</style>\n",
       "<table border=\"1\" class=\"dataframe\">\n",
       "  <thead>\n",
       "    <tr style=\"text-align: right;\">\n",
       "      <th></th>\n",
       "      <th>age</th>\n",
       "      <th>income</th>\n",
       "      <th>z_score</th>\n",
       "    </tr>\n",
       "  </thead>\n",
       "  <tbody>\n",
       "    <tr>\n",
       "      <th>0</th>\n",
       "      <td>56</td>\n",
       "      <td>11406.031379</td>\n",
       "      <td>-0.591270</td>\n",
       "    </tr>\n",
       "    <tr>\n",
       "      <th>1</th>\n",
       "      <td>46</td>\n",
       "      <td>44216.926400</td>\n",
       "      <td>-0.278364</td>\n",
       "    </tr>\n",
       "    <tr>\n",
       "      <th>2</th>\n",
       "      <td>32</td>\n",
       "      <td>NaN</td>\n",
       "      <td>NaN</td>\n",
       "    </tr>\n",
       "    <tr>\n",
       "      <th>3</th>\n",
       "      <td>25</td>\n",
       "      <td>79989.758094</td>\n",
       "      <td>0.062789</td>\n",
       "    </tr>\n",
       "    <tr>\n",
       "      <th>4</th>\n",
       "      <td>38</td>\n",
       "      <td>60771.478224</td>\n",
       "      <td>-0.120489</td>\n",
       "    </tr>\n",
       "  </tbody>\n",
       "</table>\n",
       "</div>"
      ],
      "text/plain": [
       "   age        income   z_score\n",
       "0   56  11406.031379 -0.591270\n",
       "1   46  44216.926400 -0.278364\n",
       "2   32           NaN       NaN\n",
       "3   25  79989.758094  0.062789\n",
       "4   38  60771.478224 -0.120489"
      ]
     },
     "execution_count": 16,
     "metadata": {},
     "output_type": "execute_result"
    }
   ],
   "source": [
    "P2_DF = DATASET.copy()\n",
    "P2_DF[\"z_score\"] = (P2_DF[\"income\"] - income_mean) / income_std\n",
    "P2_DF.head()"
   ]
  },
  {
   "cell_type": "markdown",
   "id": "3f99de34",
   "metadata": {},
   "source": [
    "---\n",
    "**STEP 3**: Identify outliers by checking if the absolute value of the z-score is greater than 3."
   ]
  },
  {
   "cell_type": "code",
   "execution_count": 17,
   "id": "eae43e62",
   "metadata": {},
   "outputs": [
    {
     "name": "stdout",
     "output_type": "stream",
     "text": [
      "Number of outliers (|z| > 3): 40\n"
     ]
    }
   ],
   "source": [
    "OUTLIERS = P2_DF[P2_DF[\"z_score\"].abs() > 3]\n",
    "print(f\"Number of outliers (|z| > 3): {OUTLIERS.shape[0]}\")"
   ]
  },
  {
   "cell_type": "code",
   "execution_count": 18,
   "id": "98344341",
   "metadata": {},
   "outputs": [
    {
     "data": {
      "text/html": [
       "<div>\n",
       "<style scoped>\n",
       "    .dataframe tbody tr th:only-of-type {\n",
       "        vertical-align: middle;\n",
       "    }\n",
       "\n",
       "    .dataframe tbody tr th {\n",
       "        vertical-align: top;\n",
       "    }\n",
       "\n",
       "    .dataframe thead th {\n",
       "        text-align: right;\n",
       "    }\n",
       "</style>\n",
       "<table border=\"1\" class=\"dataframe\">\n",
       "  <thead>\n",
       "    <tr style=\"text-align: right;\">\n",
       "      <th></th>\n",
       "      <th>age</th>\n",
       "      <th>income</th>\n",
       "      <th>z_score</th>\n",
       "    </tr>\n",
       "  </thead>\n",
       "  <tbody>\n",
       "    <tr>\n",
       "      <th>26</th>\n",
       "      <td>44</td>\n",
       "      <td>709574.664132</td>\n",
       "      <td>6.066916</td>\n",
       "    </tr>\n",
       "    <tr>\n",
       "      <th>33</th>\n",
       "      <td>24</td>\n",
       "      <td>462894.837371</td>\n",
       "      <td>3.714418</td>\n",
       "    </tr>\n",
       "    <tr>\n",
       "      <th>69</th>\n",
       "      <td>40</td>\n",
       "      <td>792459.889340</td>\n",
       "      <td>6.857362</td>\n",
       "    </tr>\n",
       "    <tr>\n",
       "      <th>141</th>\n",
       "      <td>30</td>\n",
       "      <td>403068.595727</td>\n",
       "      <td>3.143876</td>\n",
       "    </tr>\n",
       "    <tr>\n",
       "      <th>148</th>\n",
       "      <td>23</td>\n",
       "      <td>451510.206606</td>\n",
       "      <td>3.605847</td>\n",
       "    </tr>\n",
       "  </tbody>\n",
       "</table>\n",
       "</div>"
      ],
      "text/plain": [
       "     age         income   z_score\n",
       "26    44  709574.664132  6.066916\n",
       "33    24  462894.837371  3.714418\n",
       "69    40  792459.889340  6.857362\n",
       "141   30  403068.595727  3.143876\n",
       "148   23  451510.206606  3.605847"
      ]
     },
     "execution_count": 18,
     "metadata": {},
     "output_type": "execute_result"
    }
   ],
   "source": [
    "OUTLIERS.head()"
   ]
  },
  {
   "cell_type": "markdown",
   "id": "6577520e",
   "metadata": {},
   "source": [
    "---\n",
    "## Problem 3\n",
    "\n",
    "> Create age bins: [18-25), [25-35), [35-45), [45-60) and compute for each bin:\n",
    ">\n",
    ">   ● count of observations,\n",
    ">\n",
    ">   ● mean income,\n",
    ">\n",
    ">   ● median score."
   ]
  },
  {
   "cell_type": "markdown",
   "id": "30b079bf",
   "metadata": {},
   "source": [
    "**Methodology**: Define explicit left‑inclusive, right‑exclusive age bins matching the specification using `pd.cut`. Copy prior z-score DataFrame to preserve calculations, assign each record to a bin, then `groupby` age_bin computing: observation count (non‑NaN ages), mean income (ignoring NaNs), and median z-score (robust central tendency). Reset index and sort bins to maintain natural age order. This summarizes distributional shifts across life stages."
   ]
  },
  {
   "cell_type": "markdown",
   "id": "048874bd",
   "metadata": {},
   "source": [
    "---\n",
    "**STEP 1**: Create bin with specified sizes and compute:\n",
    "\n",
    "- count of observations\n",
    "- mean income\n",
    "- median score (assuming it refers to z-scores)\n",
    "\n",
    "**STEP 2**: Reset index and sort age_bin values."
   ]
  },
  {
   "cell_type": "code",
   "execution_count": 19,
   "id": "6d1247eb",
   "metadata": {},
   "outputs": [
    {
     "data": {
      "text/html": [
       "<div>\n",
       "<style scoped>\n",
       "    .dataframe tbody tr th:only-of-type {\n",
       "        vertical-align: middle;\n",
       "    }\n",
       "\n",
       "    .dataframe tbody tr th {\n",
       "        vertical-align: top;\n",
       "    }\n",
       "\n",
       "    .dataframe thead th {\n",
       "        text-align: right;\n",
       "    }\n",
       "</style>\n",
       "<table border=\"1\" class=\"dataframe\">\n",
       "  <thead>\n",
       "    <tr style=\"text-align: right;\">\n",
       "      <th></th>\n",
       "      <th>age_bin</th>\n",
       "      <th>ObservationCount</th>\n",
       "      <th>MeanIncome</th>\n",
       "      <th>MedianScore</th>\n",
       "    </tr>\n",
       "  </thead>\n",
       "  <tbody>\n",
       "    <tr>\n",
       "      <th>0</th>\n",
       "      <td>[18-25]</td>\n",
       "      <td>169</td>\n",
       "      <td>65252.559430</td>\n",
       "      <td>-0.202893</td>\n",
       "    </tr>\n",
       "    <tr>\n",
       "      <th>1</th>\n",
       "      <td>[25-35]</td>\n",
       "      <td>225</td>\n",
       "      <td>80966.663776</td>\n",
       "      <td>-0.208763</td>\n",
       "    </tr>\n",
       "    <tr>\n",
       "      <th>2</th>\n",
       "      <td>[35-45]</td>\n",
       "      <td>232</td>\n",
       "      <td>70224.476301</td>\n",
       "      <td>-0.219122</td>\n",
       "    </tr>\n",
       "    <tr>\n",
       "      <th>3</th>\n",
       "      <td>[45-60]</td>\n",
       "      <td>374</td>\n",
       "      <td>74483.694348</td>\n",
       "      <td>-0.200640</td>\n",
       "    </tr>\n",
       "  </tbody>\n",
       "</table>\n",
       "</div>"
      ],
      "text/plain": [
       "   age_bin  ObservationCount    MeanIncome  MedianScore\n",
       "0  [18-25]               169  65252.559430    -0.202893\n",
       "1  [25-35]               225  80966.663776    -0.208763\n",
       "2  [35-45]               232  70224.476301    -0.219122\n",
       "3  [45-60]               374  74483.694348    -0.200640"
      ]
     },
     "execution_count": 19,
     "metadata": {},
     "output_type": "execute_result"
    }
   ],
   "source": [
    "bin_sizes = [18, 25, 35, 45, 60]\n",
    "labels = [f\"[{bin_sizes[i]}-{bin_sizes[i+1]}]\" for i in range(len(bin_sizes)-1)]\n",
    "P3_DF = P2_DF.copy()\n",
    "# left-inclusive intervals\n",
    "P3_DF[\"age_bin\"] = pd.cut(P3_DF[\"age\"], bins=bin_sizes, labels=labels, right=False)\n",
    "BIN_DF = P3_DF.groupby(\"age_bin\", observed=True).agg(\n",
    "    ObservationCount=(\"age\", \"count\"),\n",
    "    MeanIncome=(\"income\", \"mean\"),\n",
    "    MedianScore=(\"z_score\", \"median\"),\n",
    ").reset_index().sort_values(\"age_bin\")\n",
    "BIN_DF"
   ]
  },
  {
   "cell_type": "markdown",
   "id": "88afb0f6",
   "metadata": {},
   "source": [
    "---\n",
    "## Problem 4\n",
    "\n",
    "> Create an array it cannot be of 1 Dimension. And then showcase the operation for the following:\n",
    ">\n",
    "> ● Shape and Resize → shape, size, Transpose, Flatten\n",
    ">\n",
    "> ● Showcasing negative indexing and display error while doing slicing\n",
    ">\n",
    "> ● Arithmetic Operations → Broadcasting, Dot Product\n",
    ">\n",
    "> ● Linear Algebra → Determinant, Inverse"
   ]
  },
  {
   "cell_type": "markdown",
   "id": "8ebdd941",
   "metadata": {},
   "source": [
    "**Methodology**: Construct higher‑dimensional random arrays to illustrate structural properties. Inspect shape/size/ndim, then reshape to 2D, transpose, and flatten to show memory/view transformations. Demonstrate negative indexing for tail access and intentionally trigger an index error via invalid slice. Showcase broadcasting with scalar and shape‑compatible addition, then compute dot product for matrix multiplication. Generate a square matrix to obtain determinant and (if non‑singular) its inverse, linking numeric linear algebra concepts."
   ]
  },
  {
   "cell_type": "markdown",
   "id": "a36ff4fa",
   "metadata": {},
   "source": [
    "---\n",
    "**STEP 1**: Create a `N`-dim array."
   ]
  },
  {
   "cell_type": "code",
   "execution_count": 20,
   "id": "46618875",
   "metadata": {},
   "outputs": [
    {
     "name": "stdout",
     "output_type": "stream",
     "text": [
      "3-D Array Info:\n",
      "Array Shape: (3, 3, 3)\n",
      "Array Dimensions: 3\n",
      "Array Data Type: float64\n",
      "Array Size (Total Elements): 27\n",
      "Array Memory Size (Bytes): 216\n",
      "\n",
      "5-D Array Info:\n",
      "Array Shape: (5, 5, 5, 5, 5)\n",
      "Array Dimensions: 5\n",
      "Array Data Type: float64\n",
      "Array Size (Total Elements): 3125\n",
      "Array Memory Size (Bytes): 25000\n",
      "\n",
      "7-D Array Info:\n",
      "Array Shape: (7, 7, 7, 7, 7, 7, 7)\n",
      "Array Dimensions: 7\n",
      "Array Data Type: float64\n",
      "Array Size (Total Elements): 823543\n",
      "Array Memory Size (Bytes): 6588344\n"
     ]
    }
   ],
   "source": [
    "def print_array_info(arr: np.ndarray) -> None:\n",
    "    \"\"\"Print information about a numpy array.\n",
    "    \n",
    "    Args:\n",
    "        arr (np.ndarray): Input array.\n",
    "    \"\"\"\n",
    "    print(f\"Array Shape: {arr.shape}\")\n",
    "    print(f\"Array Dimensions: {arr.ndim}\")\n",
    "    print(f\"Array Data Type: {arr.dtype}\")\n",
    "    print(f\"Array Size (Total Elements): {arr.size}\")\n",
    "    print(f\"Array Memory Size (Bytes): {arr.nbytes}\")\n",
    "\n",
    "\n",
    "def create_n_dim_array(n: int) -> np.ndarray:\n",
    "    \"\"\"Create an N-dimensional array filled with random floats.\n",
    "    \n",
    "    Args:\n",
    "        n (int): Dimension size.\n",
    "    \n",
    "    Returns:\n",
    "        np.ndarray: N-dimensional array.\n",
    "    \"\"\"\n",
    "    if n <= 1:\n",
    "        raise ValueError(\"Aint no way bro, not today.\")\n",
    "    return np.random.rand(*tuple(n for _ in range(n)))\n",
    "\n",
    "\n",
    "print(\"3-D Array Info:\")\n",
    "print_array_info(\n",
    "    create_n_dim_array(3)\n",
    ")\n",
    "print(\"\\n5-D Array Info:\")\n",
    "print_array_info(\n",
    "    create_n_dim_array(5)\n",
    ")\n",
    "print(\"\\n7-D Array Info:\")\n",
    "print_array_info(\n",
    "    create_n_dim_array(7)\n",
    ")"
   ]
  },
  {
   "cell_type": "markdown",
   "id": "b44ac45e",
   "metadata": {},
   "source": [
    "---\n",
    "**STEP 2**: Demonstrate Shape and Size Operations"
   ]
  },
  {
   "cell_type": "code",
   "execution_count": 21,
   "id": "1b897e94",
   "metadata": {},
   "outputs": [
    {
     "data": {
      "text/plain": [
       "array([[[0.26495676, 0.6008659 , 0.68069653],\n",
       "        [0.50405233, 0.98663321, 0.43908986],\n",
       "        [0.94850013, 0.03028413, 0.22594992]],\n",
       "\n",
       "       [[0.98868852, 0.60982342, 0.99634182],\n",
       "        [0.88165012, 0.13310598, 0.74304789],\n",
       "        [0.88640822, 0.66417612, 0.8714741 ]],\n",
       "\n",
       "       [[0.02509876, 0.66338936, 0.64168665],\n",
       "        [0.08199673, 0.90475077, 0.77217061],\n",
       "        [0.15284964, 0.04746079, 0.10255991]]])"
      ]
     },
     "execution_count": 21,
     "metadata": {},
     "output_type": "execute_result"
    }
   ],
   "source": [
    "array_3d = create_n_dim_array(3)\n",
    "array_3d"
   ]
  },
  {
   "cell_type": "markdown",
   "id": "8831369f",
   "metadata": {},
   "source": [
    "---\n",
    "**STEP 2.1**: Array properties inspection"
   ]
  },
  {
   "cell_type": "code",
   "execution_count": 22,
   "id": "0c9263b2",
   "metadata": {},
   "outputs": [
    {
     "name": "stdout",
     "output_type": "stream",
     "text": [
      "array_3d.shape: (3, 3, 3)\n",
      "array_3d.ndim: 3\n",
      "array_3d.dtype: float64\n",
      "array_3d.size: 27\n",
      "array_3d.nbytes: 216\n"
     ]
    }
   ],
   "source": [
    "print(\"array_3d.shape:\", array_3d.shape)\n",
    "print(\"array_3d.ndim:\", array_3d.ndim)\n",
    "print(\"array_3d.dtype:\", array_3d.dtype)\n",
    "print(\"array_3d.size:\", array_3d.size)\n",
    "print(\"array_3d.nbytes:\", array_3d.nbytes)"
   ]
  },
  {
   "cell_type": "markdown",
   "id": "f7e5f94b",
   "metadata": {},
   "source": [
    "---\n",
    "**STEP 2.2**: Array Resize"
   ]
  },
  {
   "cell_type": "code",
   "execution_count": 23,
   "id": "4854e949",
   "metadata": {},
   "outputs": [
    {
     "name": "stdout",
     "output_type": "stream",
     "text": [
      "[[0.26495676 0.6008659  0.68069653 0.50405233 0.98663321 0.43908986\n",
      "  0.94850013 0.03028413 0.22594992]\n",
      " [0.98868852 0.60982342 0.99634182 0.88165012 0.13310598 0.74304789\n",
      "  0.88640822 0.66417612 0.8714741 ]\n",
      " [0.02509876 0.66338936 0.64168665 0.08199673 0.90475077 0.77217061\n",
      "  0.15284964 0.04746079 0.10255991]]\n",
      "Array Shape: (3, 9)\n",
      "Array Dimensions: 2\n",
      "Array Data Type: float64\n",
      "Array Size (Total Elements): 27\n",
      "Array Memory Size (Bytes): 216\n"
     ]
    }
   ],
   "source": [
    "# Convert to 2D array\n",
    "array_2d = array_3d.reshape(3, -1)\n",
    "print(array_2d)\n",
    "print_array_info(array_2d)"
   ]
  },
  {
   "cell_type": "markdown",
   "id": "8f82e8fb",
   "metadata": {},
   "source": [
    "---\n",
    "**STEP 2.3**: Transpose Array"
   ]
  },
  {
   "cell_type": "code",
   "execution_count": 24,
   "id": "b6dd70d6",
   "metadata": {},
   "outputs": [
    {
     "name": "stdout",
     "output_type": "stream",
     "text": [
      "Array Shape: (9, 3)\n",
      "Array Dimensions: 2\n",
      "Array Data Type: float64\n",
      "Array Size (Total Elements): 27\n",
      "Array Memory Size (Bytes): 216\n"
     ]
    },
    {
     "data": {
      "text/plain": [
       "array([[0.26495676, 0.98868852, 0.02509876],\n",
       "       [0.6008659 , 0.60982342, 0.66338936],\n",
       "       [0.68069653, 0.99634182, 0.64168665],\n",
       "       [0.50405233, 0.88165012, 0.08199673],\n",
       "       [0.98663321, 0.13310598, 0.90475077],\n",
       "       [0.43908986, 0.74304789, 0.77217061],\n",
       "       [0.94850013, 0.88640822, 0.15284964],\n",
       "       [0.03028413, 0.66417612, 0.04746079],\n",
       "       [0.22594992, 0.8714741 , 0.10255991]])"
      ]
     },
     "execution_count": 24,
     "metadata": {},
     "output_type": "execute_result"
    }
   ],
   "source": [
    "array_2d_transposed = array_2d.T\n",
    "print_array_info(array_2d_transposed)\n",
    "array_2d_transposed"
   ]
  },
  {
   "cell_type": "markdown",
   "id": "bfd266ac",
   "metadata": {},
   "source": [
    "---\n",
    "**STEP 2.4**: Flatten Array"
   ]
  },
  {
   "cell_type": "code",
   "execution_count": 25,
   "id": "54043362",
   "metadata": {},
   "outputs": [
    {
     "name": "stdout",
     "output_type": "stream",
     "text": [
      "Array Shape: (27,)\n",
      "Array Dimensions: 1\n",
      "Array Data Type: float64\n",
      "Array Size (Total Elements): 27\n",
      "Array Memory Size (Bytes): 216\n"
     ]
    },
    {
     "data": {
      "text/plain": [
       "array([0.26495676, 0.6008659 , 0.68069653, 0.50405233, 0.98663321,\n",
       "       0.43908986, 0.94850013, 0.03028413, 0.22594992, 0.98868852,\n",
       "       0.60982342, 0.99634182, 0.88165012, 0.13310598, 0.74304789,\n",
       "       0.88640822, 0.66417612, 0.8714741 , 0.02509876, 0.66338936,\n",
       "       0.64168665, 0.08199673, 0.90475077, 0.77217061, 0.15284964,\n",
       "       0.04746079, 0.10255991])"
      ]
     },
     "execution_count": 25,
     "metadata": {},
     "output_type": "execute_result"
    }
   ],
   "source": [
    "flatten_array = array_2d.flatten()\n",
    "print_array_info(flatten_array)\n",
    "flatten_array"
   ]
  },
  {
   "cell_type": "markdown",
   "id": "dd9d902f",
   "metadata": {},
   "source": [
    "---\n",
    "**STEP 3.1**: Negative index access"
   ]
  },
  {
   "cell_type": "code",
   "execution_count": 26,
   "id": "d4cd04e1",
   "metadata": {},
   "outputs": [
    {
     "data": {
      "text/plain": [
       "np.float64(0.15284964186680028)"
      ]
     },
     "execution_count": 26,
     "metadata": {},
     "output_type": "execute_result"
    }
   ],
   "source": [
    "array_2d[-1, -3]"
   ]
  },
  {
   "cell_type": "markdown",
   "id": "49a8686c",
   "metadata": {},
   "source": [
    "---\n",
    "**STEP 3.2**: Slicing Error"
   ]
  },
  {
   "cell_type": "code",
   "execution_count": 27,
   "id": "647d00a1",
   "metadata": {},
   "outputs": [
    {
     "ename": "IndexError",
     "evalue": "index 10 is out of bounds for axis 1 with size 9",
     "output_type": "error",
     "traceback": [
      "\u001b[31m---------------------------------------------------------------------------\u001b[39m",
      "\u001b[31mIndexError\u001b[39m                                Traceback (most recent call last)",
      "\u001b[36mCell\u001b[39m\u001b[36m \u001b[39m\u001b[32mIn[27]\u001b[39m\u001b[32m, line 2\u001b[39m\n\u001b[32m      1\u001b[39m \u001b[38;5;66;03m# Following will raise error when slicing beyond array dimensions\u001b[39;00m\n\u001b[32m----> \u001b[39m\u001b[32m2\u001b[39m \u001b[43marray_2d\u001b[49m\u001b[43m[\u001b[49m\u001b[32;43m3\u001b[39;49m\u001b[43m:\u001b[49m\u001b[32;43m7\u001b[39;49m\u001b[43m,\u001b[49m\u001b[43m \u001b[49m\u001b[32;43m10\u001b[39;49m\u001b[43m]\u001b[49m\n",
      "\u001b[31mIndexError\u001b[39m: index 10 is out of bounds for axis 1 with size 9"
     ]
    }
   ],
   "source": [
    "# Following will raise error when slicing beyond array dimensions\n",
    "array_2d[3:7, 10]"
   ]
  },
  {
   "cell_type": "markdown",
   "id": "0ed2b0f0",
   "metadata": {},
   "source": [
    "---\n",
    "**STEP 4**: Arithmetic Operations"
   ]
  },
  {
   "cell_type": "markdown",
   "id": "7c12aa75",
   "metadata": {},
   "source": [
    "---\n",
    "**STEP 4.1**: Broadcasting"
   ]
  },
  {
   "cell_type": "code",
   "execution_count": 28,
   "id": "d73917bd",
   "metadata": {},
   "outputs": [
    {
     "name": "stdout",
     "output_type": "stream",
     "text": [
      "Original Array:\n",
      "[[0.26495676 0.6008659  0.68069653 0.50405233 0.98663321 0.43908986\n",
      "  0.94850013 0.03028413 0.22594992]\n",
      " [0.98868852 0.60982342 0.99634182 0.88165012 0.13310598 0.74304789\n",
      "  0.88640822 0.66417612 0.8714741 ]\n",
      " [0.02509876 0.66338936 0.64168665 0.08199673 0.90475077 0.77217061\n",
      "  0.15284964 0.04746079 0.10255991]]\n",
      "\n",
      "Array after scalar multiplication:\n",
      "[[2.64956761 6.00865899 6.80696533 5.04052329 9.86633212 4.39089859\n",
      "  9.48500126 0.30284127 2.25949925]\n",
      " [9.88688517 6.09823418 9.96341821 8.81650118 1.33105979 7.43047888\n",
      "  8.86408223 6.64176117 8.71474104]\n",
      " [0.2509876  6.63389361 6.41686648 0.81996733 9.04750767 7.72170607\n",
      "  1.52849642 0.47460792 1.02559908]]\n",
      "\n",
      "Other 2D Array:\n",
      "[[0.93087131 0.82070433 0.66516217 0.67133104 0.47092199 0.46341132\n",
      "  0.85883464 0.67802858 0.87453228]\n",
      " [0.90303619 0.77093316 0.75665569 0.99488809 0.69818595 0.08658933\n",
      "  0.98951816 0.19632836 0.69779292]\n",
      " [0.2224241  0.82821669 0.84690075 0.89590999 0.35776735 0.46061789\n",
      "  0.35189445 0.38439899 0.73131799]]\n",
      "\n",
      "Array after addition with another array:\n",
      "[[1.19582807 1.42157023 1.3458587  1.17538337 1.4575552  0.90250118\n",
      "  1.80733477 0.70831271 1.1004822 ]\n",
      " [1.89172471 1.38075658 1.75299751 1.8765382  0.83129193 0.82963722\n",
      "  1.87592639 0.86050448 1.56926702]\n",
      " [0.24752286 1.49160605 1.4885874  0.97790672 1.26251812 1.2327885\n",
      "  0.50474409 0.43185978 0.8338779 ]]\n"
     ]
    }
   ],
   "source": [
    "print(\"Original Array:\")\n",
    "print(array_2d)\n",
    "scalar = array_2d * 10\n",
    "print(\"\\nArray after scalar multiplication:\")\n",
    "print(scalar)\n",
    "other_2d_array = np.random.rand(3, array_2d.shape[1])\n",
    "print(\"\\nOther 2D Array:\")\n",
    "print(other_2d_array)\n",
    "barr = array_2d + other_2d_array\n",
    "print(\"\\nArray after addition with another array:\")\n",
    "print(barr)"
   ]
  },
  {
   "cell_type": "markdown",
   "id": "93d6a410",
   "metadata": {},
   "source": [
    "---\n",
    "**STEP 4.2**: Dot Product"
   ]
  },
  {
   "cell_type": "code",
   "execution_count": 29,
   "id": "9ddfe7f2",
   "metadata": {},
   "outputs": [
    {
     "data": {
      "text/plain": [
       "array([[3.2317787 , 3.54806549, 2.65054001],\n",
       "       [5.05619452, 4.76688036, 3.95309344],\n",
       "       [2.08672679, 2.03188436, 1.99831992]])"
      ]
     },
     "execution_count": 29,
     "metadata": {},
     "output_type": "execute_result"
    }
   ],
   "source": [
    "np.dot(array_2d, other_2d_array.T)"
   ]
  },
  {
   "cell_type": "markdown",
   "id": "b81f8c41",
   "metadata": {},
   "source": [
    "---\n",
    "**STEP 5.1**: Linear Algebra - Determinant"
   ]
  },
  {
   "cell_type": "code",
   "execution_count": 30,
   "id": "155491ff",
   "metadata": {},
   "outputs": [
    {
     "name": "stdout",
     "output_type": "stream",
     "text": [
      "Array Shape: (2, 2)\n",
      "Array Dimensions: 2\n",
      "Array Data Type: float64\n",
      "Array Size (Total Elements): 4\n",
      "Array Memory Size (Bytes): 32\n",
      "[[0.34352374 0.49082524]\n",
      " [0.16181028 0.51820558]]\n",
      "Determinant of the matrix: 0.0986\n"
     ]
    }
   ],
   "source": [
    "sq_mat = create_n_dim_array(2)\n",
    "print_array_info(sq_mat)\n",
    "print(sq_mat)\n",
    "det = np.linalg.det(sq_mat)\n",
    "print(f\"Determinant of the matrix: {det:.4f}\")"
   ]
  },
  {
   "cell_type": "markdown",
   "id": "b1ddb984",
   "metadata": {},
   "source": [
    "---\n",
    "**STEP 5.2**: Linear Algebra - Inverse"
   ]
  },
  {
   "cell_type": "code",
   "execution_count": 31,
   "id": "37f1376f",
   "metadata": {},
   "outputs": [
    {
     "name": "stdout",
     "output_type": "stream",
     "text": [
      "\n",
      "Inverse of the matrix:\n",
      "[[ 5.25588258 -4.97817835]\n",
      " [-1.64115529  3.48417789]]\n"
     ]
    }
   ],
   "source": [
    "# Inverse exists only if determinant is non-zero\n",
    "if np.greater(det, 0):\n",
    "    inv_mat = np.linalg.inv(sq_mat)\n",
    "    print(\"\\nInverse of the matrix:\")\n",
    "    print(inv_mat)"
   ]
  },
  {
   "cell_type": "markdown",
   "id": "20135b60",
   "metadata": {},
   "source": [
    "---\n",
    "**Licensed under [MIT License](https://opensource.org/licenses/MIT).**"
   ]
  }
 ],
 "metadata": {
  "kernelspec": {
   "display_name": "Python 3 (ipykernel)",
   "language": "python",
   "name": "python3"
  },
  "language_info": {
   "codemirror_mode": {
    "name": "ipython",
    "version": 3
   },
   "file_extension": ".py",
   "mimetype": "text/x-python",
   "name": "python",
   "nbconvert_exporter": "python",
   "pygments_lexer": "ipython3",
   "version": "3.12.10"
  }
 },
 "nbformat": 4,
 "nbformat_minor": 5
}
